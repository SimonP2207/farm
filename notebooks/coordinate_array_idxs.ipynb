{
 "cells": [
  {
   "cell_type": "code",
   "execution_count": 28,
   "outputs": [],
   "source": [
    "%matplotlib inline"
   ],
   "metadata": {
    "collapsed": false,
    "ExecuteTime": {
     "start_time": "2023-05-12T18:24:10.416502Z",
     "end_time": "2023-05-12T18:24:10.550049Z"
    }
   }
  },
  {
   "cell_type": "code",
   "execution_count": 29,
   "outputs": [
    {
     "name": "stdout",
     "output_type": "stream",
     "text": [
      "WCS Keywords\n",
      "\n",
      "Number of WCS axes: 3\n",
      "CTYPE : 'RA---SIN'  'DEC--SIN'  'FREQ'  \n",
      "CRVAL : 15.5  -1.5  100000000.0  \n",
      "CRPIX : 2.5  2.5  1.0  \n",
      "PC1_1 PC1_2 PC1_3  : 1.0  0.0  0.0  \n",
      "PC2_1 PC2_2 PC2_3  : 0.0  1.0  0.0  \n",
      "PC3_1 PC3_2 PC3_3  : 0.0  0.0  1.0  \n",
      "CDELT : -0.01  0.01  10000000.0  \n",
      "NAXIS : 5  5  3\n"
     ]
    },
    {
     "name": "stderr",
     "output_type": "stream",
     "text": [
      "WARNING: FITSFixedWarning: The WCS transformation has more axes (3) than the image it is associated with (2) [astropy.wcs.wcs]\n"
     ]
    }
   ],
   "source": [
    "import numpy as np\n",
    "import matplotlib.pylab as plt\n",
    "from astropy import wcs\n",
    "from astropy import units as u\n",
    "from astropy.coordinates import SkyCoord\n",
    "from astropy.io import fits\n",
    "\n",
    "from farm.miscellaneous.fits import hdr3d\n",
    "\n",
    "fov = (0.05, 0.05)\n",
    "cdelt = 0.01\n",
    "freqs = [1e8, 1.1e8, 1.2e8]\n",
    "target_ra, target_dec = 15.5 + 0. * cdelt + 0.00025, -1.5 - 0. * cdelt + 0.00025\n",
    "coord0 = SkyCoord(15.5, -1.5, unit=(u.deg, u.deg), frame='fk5')\n",
    "fits_file = '/Users/simon.purser/Desktop/test_fits_idxs.fits'\n",
    "\n",
    "hdr = hdr3d(int(fov[0] // cdelt), int(fov[1] // cdelt), coord0, cdelt, freqs)\n",
    "shape_data = (hdr['NAXIS3'], hdr['NAXIS2'], hdr['NAXIS1'])\n",
    "# print(hdr)\n",
    "wcs = wcs.WCS(hdr)\n",
    "print(wcs)\n",
    "# print(wcs.to_header())\n",
    "# data_arr = np.arange(0, np.prod(shape_data), dtype=float).reshape(shape_data)\n",
    "data_arr = np.zeros(shape_data)\n",
    "\n",
    "# Note that pixel coordinates are assumed to be 0 at the center of the first\n",
    "# pixel in each dimension\n",
    "zz, yy, xx = np.meshgrid(np.arange(hdr['NAXIS3']),\n",
    "                         np.arange(hdr['NAXIS2']),\n",
    "                         np.arange(hdr['NAXIS1']), indexing='ij')\n",
    "rra, ddec, ffreq = wcs.pixel_to_world_values(xx, yy, zz)\n",
    "\n",
    "delta_ra = rra[0][0][1] - rra[0][0][0]\n",
    "delta_dec = ddec[0][1][0] - ddec[0][0][0]\n",
    "\n",
    "idxs = wcs.world_to_array_index_values(\n",
    "    target_ra, target_dec, freqs[0]\n",
    ")\n",
    "\n",
    "hdu = fits.PrimaryHDU(data_arr)\n",
    "hdu.header = hdr\n",
    "hdu.writeto(fits_file, overwrite=True)"
   ],
   "metadata": {
    "collapsed": false,
    "ExecuteTime": {
     "start_time": "2023-05-12T18:24:10.554743Z",
     "end_time": "2023-05-12T18:24:10.594369Z"
    }
   }
  },
  {
   "cell_type": "code",
   "execution_count": 30,
   "outputs": [
    {
     "data": {
      "text/plain": "[<matplotlib.lines.Line2D at 0x7fa3e92de760>]"
     },
     "execution_count": 30,
     "metadata": {},
     "output_type": "execute_result"
    },
    {
     "data": {
      "text/plain": "<Figure size 432x288 with 1 Axes>",
      "image/png": "[encoded data removed]"
     },
     "metadata": {
      "needs_background": "light"
     },
     "output_type": "display_data"
    }
   ],
   "source": [
    "extent = (rra[0][0][0] - delta_ra / 2, rra[0][0][-1] + delta_ra / 2,\n",
    "          ddec[0][-1, 0] + delta_dec / 2, ddec[0][0, 0] - delta_dec / 2)\n",
    "\n",
    "plt.close('all')\n",
    "\n",
    "plt.imshow(data_arr[0], extent=extent)\n",
    "plt.ylim(plt.ylim()[::-1])\n",
    "fits_idx_first_x, fits_idx_first_y, _ = wcs.pixel_to_world_values(0, 0, 0)\n",
    "fits_idx_last_x, fits_idx_last_y, _ = wcs.pixel_to_world_values(\n",
    "    hdr['NAXIS1'] - 1, hdr['NAXIS2'] - 1, 0\n",
    ")\n",
    "4\n",
    "plt.plot(fits_idx_first_x, fits_idx_first_y, 'ro')\n",
    "plt.plot(fits_idx_last_x, fits_idx_last_y, 'go');\n",
    "plt.plot(target_ra, target_dec, 'w+')"
   ],
   "metadata": {
    "collapsed": false,
    "ExecuteTime": {
     "start_time": "2023-05-12T18:24:10.593762Z",
     "end_time": "2023-05-12T18:24:10.740811Z"
    }
   }
  },
  {
   "cell_type": "code",
   "execution_count": 32,
   "outputs": [
    {
     "data": {
      "text/plain": "<Figure size 432x288 with 1 Axes>",
      "image/png": "[encoded data removed]"
     },
     "metadata": {
      "needs_background": "light"
     },
     "output_type": "display_data"
    }
   ],
   "source": [
    "import numpy.typing as npt\n",
    "from astropy.wcs import WCS\n",
    "\n",
    "\n",
    "def place_point_source_on_grid(data: npt.NDArray, im_wcs: WCS, tgt_ra: float,\n",
    "                               tgt_dec: float, tgt_flux0: float, tgt_freq0: float,\n",
    "                               tgt_spix: float):\n",
    "    \"\"\"\n",
    "    Given a coordinate for a point source, add it (in place) to the data array\n",
    "    of fluxes\n",
    "\n",
    "    Parameters\n",
    "    ----------\n",
    "    data\n",
    "        Data array of fluxes\n",
    "    im_wcs\n",
    "        World coordinate system\n",
    "    tgt_ra\n",
    "        Source's right ascension [deg]\n",
    "    tgt_dec\n",
    "        Source's declination [deg]\n",
    "    tgt_flux0\n",
    "        Source's peak-flux/flux at freq0 [Jy]\n",
    "    tgt_freq0\n",
    "        Frequency of source's peak flux [Hz]\n",
    "    tgt_spix\n",
    "        Spectral index of source\n",
    "    \"\"\"\n",
    "    im_hdr = im_wcs.to_header(relax=True)\n",
    "    nfreq = im_wcs.spectral.array_shape[0]\n",
    "    im_freqs = [im_hdr['CRVAL3'] + (n - im_hdr['CRPIX3'] + 1) * im_hdr['CDELT3']\n",
    "                for n in range(nfreq)]\n",
    "\n",
    "    # Get size of pixel in both RA and declination\n",
    "    d_dec = im_hdr['CDELT2']\n",
    "    d_ra = d_dec / np.cos(np.radians(tgt_dec))\n",
    "    cell_area = np.abs(d_ra * d_dec)\n",
    "\n",
    "    verts = np.array(\n",
    "        [[[tgt_ra + d_ra / 2., tgt_dec - d_dec / 2.],\n",
    "          [tgt_ra - d_ra / 2., tgt_dec - d_dec / 2.],\n",
    "          [tgt_ra + d_ra / 2., tgt_dec + d_dec / 2.],\n",
    "          [tgt_ra - d_ra / 2., tgt_dec + d_dec / 2.]]] * nfreq\n",
    "    )\n",
    "    ras = verts[:, :, 0].reshape((nfreq, 2, 2))\n",
    "    decs = verts[:, :, 1].reshape((nfreq, 2, 2))\n",
    "    freqs = np.concatenate([np.full((1, 2, 2), freq) for freq in im_freqs],\n",
    "                           axis=0)\n",
    "    crds = np.concatenate((ras[...,np.newaxis], decs[...,np.newaxis]), axis=3)\n",
    "\n",
    "    idxs_verts = im_wcs.world_to_array_index_values(ras, decs, freqs)\n",
    "    freq_idxs_verts, dec_idxs_verts, ra_idxs_verts = idxs_verts\n",
    "\n",
    "    cell_crds = im_wcs.array_index_to_world_values(*idxs_verts)[:2]\n",
    "    crd_intersection = np.mean(cell_crds, axis=(1, 2, 3))\n",
    "\n",
    "    outside_arr = ((ra_idxs_verts >= data.shape[2]) |\n",
    "                   (ra_idxs_verts < 0) |\n",
    "                   (dec_idxs_verts >= data.shape[1]) |\n",
    "                   (dec_idxs_verts < 0))\n",
    "\n",
    "    # Do not add source if any part of it lies outside data array\n",
    "    if True in outside_arr:\n",
    "        return verts, crd_intersection\n",
    "\n",
    "    offsets = crds - crd_intersection\n",
    "    areas = np.abs(np.prod(offsets, axis=(3,))) / cell_area\n",
    "\n",
    "    vals = areas[np.newaxis, ...] * tgt_flux0 * (np.array(im_freqs)[..., np.newaxis, np.newaxis] / tgt_freq0) ** tgt_spix\n",
    "    data[idxs_verts] = vals\n",
    "\n",
    "    return verts, crd_intersection\n",
    "\n",
    "\n",
    "verts, coord_intersection = place_point_source_on_grid(data_arr, wcs, target_ra, target_dec, 1000., 1e8, -0.7)\n",
    "hdu.writeto('/Users/simon.purser/Desktop/test.fits', overwrite=True)\n",
    "verts = verts[0]\n",
    "\n",
    "plt.close('all')\n",
    "\n",
    "plt.imshow(data_arr[0], extent=extent, vmin=0, vmax=500)\n",
    "plt.plot(fits_idx_first_x, fits_idx_first_y, 'ro')\n",
    "plt.plot(fits_idx_last_x, fits_idx_last_y, 'go');\n",
    "plt.plot(target_ra, target_dec, 'wx')\n",
    "plt.plot(np.append(verts[:, 0], verts[:1, 0]), np.append(verts[:, 1], verts[:1, 1]), 'w-')\n",
    "plt.plot(*coord_intersection, 'rx')\n",
    "plt.ylim(plt.ylim()[::-1]);"
   ],
   "metadata": {
    "collapsed": false,
    "ExecuteTime": {
     "start_time": "2023-05-14T13:28:03.737045Z",
     "end_time": "2023-05-14T13:28:04.092412Z"
    }
   }
  }
 ],
 "metadata": {
  "kernelspec": {
   "name": "farm",
   "language": "python",
   "display_name": "farm"
  },
  "language_info": {
   "codemirror_mode": {
    "name": "ipython",
    "version": 2
   },
   "file_extension": ".py",
   "mimetype": "text/x-python",
   "name": "python",
   "nbconvert_exporter": "python",
   "pygments_lexer": "ipython2",
   "version": "2.7.6"
  }
 },
 "nbformat": 4,
 "nbformat_minor": 0
}
